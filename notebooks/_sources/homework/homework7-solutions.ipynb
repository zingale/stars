{
 "cells": [
  {
   "cell_type": "markdown",
   "id": "9bb734c1-0622-4a8b-b169-cd5b4039f78a",
   "metadata": {
    "user_expressions": []
   },
   "source": [
    "# Homework 7 solutions"
   ]
  },
  {
   "cell_type": "markdown",
   "id": "5172afec-7a5c-4d98-a31d-049daa9f9b18",
   "metadata": {
    "user_expressions": []
   },
   "source": [
    "## 1. Electron heat capacity\n",
    "\n",
    "We want to find the specific heat of degenerate non-relativistic electrons and compare to that of the ions in a white dwarf to see if we were justified in neglecting their contribution when we did white dwarf cooling."
   ]
  },
  {
   "cell_type": "code",
   "execution_count": 1,
   "id": "22cd5274-1ee9-49ee-a4cc-abfd0190d3b0",
   "metadata": {
    "tags": []
   },
   "outputs": [],
   "source": [
    "import numpy as np"
   ]
  },
  {
   "cell_type": "markdown",
   "id": "3d780e40-023a-41c5-8ce6-a72d51a0b00b",
   "metadata": {
    "user_expressions": []
   },
   "source": [
    "We'll use `unyt` to keep track of units for us.  This uses SymPy underneat to symbolically track the units we attach to quantities."
   ]
  },
  {
   "cell_type": "code",
   "execution_count": 9,
   "id": "ebfe49aa-c84f-41fc-bf43-2627dee4d772",
   "metadata": {
    "tags": []
   },
   "outputs": [],
   "source": [
    "import unyt as u"
   ]
  },
  {
   "cell_type": "markdown",
   "id": "21c7d894-122a-480a-a762-520f6e26a604",
   "metadata": {
    "user_expressions": []
   },
   "source": [
    "In a previous homework, we found:\n",
    "\n",
    "\\begin{equation}    \n",
    "    P_e = \\frac{h^2}{20m_e} \\left ( \\frac{3}{\\pi} \\right )^{2/3} n_e^{5/3}               \n",
    "        \\left [ 1 + \\frac{40\\pi^2}{(3/\\pi)^{4/3}} \\frac{m_e^2}{h^4} \\frac{(kT)^2}{n_e^{4/3}}\n",
    "        \\right ]             \n",
    "\\end{equation} \n",
    "  \n",
    "We'll write this as:\n",
    "\n",
    "$$P_e = \\alpha n_e^{5/3} \\left [ 1 + \\beta \\frac{T^2}{n_e^{4/3}} \\right ]$$\n",
    "\n",
    "with\n",
    "\n",
    "$$\\alpha =  \\frac{h^2}{20m_e} \\left ( \\frac{3}{\\pi} \\right )^{2/3}$$\n",
    "\n",
    "and \n",
    "\n",
    "$$\\beta = \\frac{40\\pi^2}{(3/\\pi)^{4/3}} \\frac{m_e^2}{h^4} k^2$$\n",
    "\n",
    "Let's compute these"
   ]
  },
  {
   "cell_type": "code",
   "execution_count": 10,
   "id": "de46fa6c-9341-46eb-8b33-8eccd0c101b4",
   "metadata": {
    "tags": []
   },
   "outputs": [],
   "source": [
    "h = 6.63e-27 * u.erg * u.s\n",
    "m_u = 1.67e-24 * u.g\n",
    "m_e = 9.11e-28 * u.g\n",
    "k = 1.38e-16 * u.erg / u.K"
   ]
  },
  {
   "cell_type": "code",
   "execution_count": 11,
   "id": "6c7e6c60-5e2d-45a1-8ba3-ac545fa9d8ba",
   "metadata": {
    "tags": []
   },
   "outputs": [
    {
     "data": {
      "text/plain": [
       "unyt_quantity(2.33951736e-27, 'erg**2*s**2/g')"
      ]
     },
     "execution_count": 11,
     "metadata": {},
     "output_type": "execute_result"
    }
   ],
   "source": [
    "alpha = h**2 / (20 * m_e) * (3 / np.pi)**(2./3.)\n",
    "alpha"
   ]
  },
  {
   "cell_type": "code",
   "execution_count": 12,
   "id": "3896a966-0608-4be3-a384-27b7761ddd16",
   "metadata": {
    "tags": []
   },
   "outputs": [
    {
     "data": {
      "text/plain": [
       "unyt_quantity(3.43404019e+21, 'g**2/(K**2*erg**2*s**4)')"
      ]
     },
     "execution_count": 12,
     "metadata": {},
     "output_type": "execute_result"
    }
   ],
   "source": [
    "beta = 40 * np.pi**2 / (3 / np.pi)**(4./3.) * m_e**2 / h**4 * k**2\n",
    "beta"
   ]
  },
  {
   "cell_type": "markdown",
   "id": "315499e1-daf3-4bf5-bc1a-61d1ecae50ca",
   "metadata": {
    "user_expressions": []
   },
   "source": [
    "Now, we know that for non-relativistic electrons,\n",
    "\n",
    "$$\\rho e_e = \\frac{3}{2} P_e$$\n",
    "\n",
    "and\n",
    "\n",
    "$$n_e = \\frac{\\rho}{\\mu_e m_u}$$\n",
    "\n",
    "so\n",
    "\n",
    "$$e_e = \\frac{3}{2} \\alpha \\frac{n_e^{5/3}}{\\rho} \\left [ 1 + \\beta \\frac{T^2}{n_e^{4/3}} \\right ]$$\n",
    "\n",
    "and\n",
    "\n",
    "$$c_v = \\left . \\frac{\\partial e_e}{\\partial T} \\right |_\\rho = 3 \\alpha \\beta \\frac{T}{\\rho^{2/3}(\\mu_e m_u)^{4/3}}$$"
   ]
  },
  {
   "cell_type": "markdown",
   "id": "afb5b7ce-1b54-4522-8d56-8cfdd9556306",
   "metadata": {
    "user_expressions": []
   },
   "source": [
    "If we take typical conditions in a white dwarf, we can evaluate this"
   ]
  },
  {
   "cell_type": "code",
   "execution_count": 13,
   "id": "b8316c8a-fb15-4b3c-8392-f6a16ad5dda4",
   "metadata": {
    "tags": []
   },
   "outputs": [],
   "source": [
    "rho = 1.e7 * u.g / u.cm**3\n",
    "T = 1.e7 * u.K\n",
    "mu_e = 0.5"
   ]
  },
  {
   "cell_type": "code",
   "execution_count": 14,
   "id": "1c8481ae-7506-4126-bd72-c3a103b93fa1",
   "metadata": {
    "tags": []
   },
   "outputs": [
    {
     "data": {
      "text/plain": [
       "unyt_quantity(551430.44751741, 'cm**2/(K*s**2)')"
      ]
     },
     "execution_count": 14,
     "metadata": {},
     "output_type": "execute_result"
    }
   ],
   "source": [
    "cv_e = 3 * alpha * beta * T / rho**(2./3.) / (mu_e * m_u)**(1./3.)\n",
    "cv_e"
   ]
  },
  {
   "cell_type": "code",
   "execution_count": 15,
   "id": "c74bd285-cbdf-4c28-94d2-1975d58a1ccd",
   "metadata": {
    "tags": []
   },
   "outputs": [
    {
     "data": {
      "text/plain": [
       "unyt_quantity(551430.44751741, 'erg/(K*g)')"
      ]
     },
     "execution_count": 15,
     "metadata": {},
     "output_type": "execute_result"
    }
   ],
   "source": [
    "cv_e.to(\"erg/g/K\")"
   ]
  },
  {
   "cell_type": "markdown",
   "id": "5b81dbcb-0e02-4f83-b3e8-191138eb0e59",
   "metadata": {
    "user_expressions": []
   },
   "source": [
    "We see that for the electrons,\n",
    "\n",
    "$$c_{v,e} = 5.5\\times 10^5~\\mathrm{erg / g / K}$$"
   ]
  },
  {
   "cell_type": "markdown",
   "id": "4711b2f6-03cc-420c-bb96-608bd60ec41e",
   "metadata": {
    "user_expressions": []
   },
   "source": [
    "For the ions, in class we found that\n",
    "\n",
    "$$c_v = \\frac{3}{2} \\frac{k}{\\mu_I m_u}$$\n",
    "\n",
    "we can evaluate this for a carbon white dwarf ($\\mu_I = 12$):"
   ]
  },
  {
   "cell_type": "code",
   "execution_count": 17,
   "id": "4f7e416f-ec82-41a7-a780-52c1dd7e6026",
   "metadata": {
    "tags": []
   },
   "outputs": [
    {
     "data": {
      "text/plain": [
       "unyt_quantity(10329341.31736527, 'erg/(K*g)')"
      ]
     },
     "execution_count": 17,
     "metadata": {},
     "output_type": "execute_result"
    }
   ],
   "source": [
    "mu_I = 12\n",
    "cv_ions = 1.5 * k / (mu_I * m_u)\n",
    "cv_ions"
   ]
  },
  {
   "cell_type": "markdown",
   "id": "00cb3824-3ec7-4787-be01-a99535652a07",
   "metadata": {
    "user_expressions": []
   },
   "source": [
    "We see that we have\n",
    "\n",
    "$$c_{v,ions} = 10^7~\\mathrm{erg/g/K}$$\n",
    "\n",
    "so $c_{v,ions} \\gg c_{v,e}$, justifying our assumption in class."
   ]
  },
  {
   "cell_type": "code",
   "execution_count": null,
   "id": "f30a1a86-7aa4-449d-a282-bd46dfadc287",
   "metadata": {},
   "outputs": [],
   "source": []
  }
 ],
 "metadata": {
  "kernelspec": {
   "display_name": "Python 3 (ipykernel)",
   "language": "python",
   "name": "python3"
  },
  "language_info": {
   "codemirror_mode": {
    "name": "ipython",
    "version": 3
   },
   "file_extension": ".py",
   "mimetype": "text/x-python",
   "name": "python",
   "nbconvert_exporter": "python",
   "pygments_lexer": "ipython3",
   "version": "3.11.6"
  }
 },
 "nbformat": 4,
 "nbformat_minor": 5
}
