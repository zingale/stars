{
 "cells": [
  {
   "cell_type": "markdown",
   "id": "cb449d5d-24cc-49fc-9e52-1ea434c140e8",
   "metadata": {
    "user_expressions": []
   },
   "source": [
    "# Homework 8 solutions"
   ]
  },
  {
   "cell_type": "markdown",
   "id": "d335ebdb-d6eb-4869-927e-05d432b5504e",
   "metadata": {
    "user_expressions": []
   },
   "source": [
    "## 1. Neutron star composition\n",
    "\n",
    "We want to look at chemical equilibrium for a neutron star to determine the relative fraction of neutrons, protons, and electrons.\n",
    "\n",
    "Our balance equation is:\n",
    "\n",
    "$$n \\leftrightarrow p + e^- + Q$$\n",
    "\n",
    "where $Q = 0.782~\\mathrm{MeV}$."
   ]
  },
  {
   "cell_type": "markdown",
   "id": "f9368e87-712e-44b4-b4c5-20dad0bfdf02",
   "metadata": {
    "user_expressions": []
   },
   "source": [
    "### a.\n",
    "\n",
    "Chemical equilibrium says that:\n",
    "\n",
    "$$\\mu_n = \\mu_p + \\mu_e$$\n",
    "\n",
    "since we are degenerate, we can relate the chemical potential to the Fermi energy:\n",
    "\n",
    "$$\\mu = \\mathcal{E}_F + mc^2$$\n",
    "\n",
    "and then we have\n",
    "\n",
    "$$\\mathcal{E}_n + m_n c^2 = \\mathcal{E}_p + m_p c^2 + \\mathcal{E}_e + m_e c^2$$\n",
    "\n",
    "or rearranging:\n",
    "\n",
    "$$\\mathcal{E}_n + [m_n - (m_p + m_e) ] c^2 = \\mathcal{E}_p + \\mathcal{E}_e$$\n",
    "\n",
    "where we recognize the term $[\\ldots]$ as $Q$.\n",
    "\n",
    "This gives\n",
    "\n",
    "$$\\mathcal{E}_n + Q = \\mathcal{E}_p + \\mathcal{E}_e$$"
   ]
  },
  {
   "cell_type": "markdown",
   "id": "cb73e64e-5a7a-4e34-964f-426fdbe42bd8",
   "metadata": {
    "user_expressions": []
   },
   "source": [
    "### b.\n",
    "\n",
    "Now we take the electrons to be relativistic, zero-temperature degenerate:\n",
    "\n",
    "$$\\mathcal{E}_e = p_e c = m_e c^2 x_{F,e}$$\n",
    "\n",
    "with\n",
    "\n",
    "$$x_{F,e} = \\left (\\frac{3}{8\\pi} \\right)^{1/3} \\frac{h}{m_e c^2} n_e^{1/3}$$\n",
    "\n",
    "and we take $n$ and $p$ to be non-relativistic, zero-temperature degenerate:\n",
    "\n",
    "$$\\mathcal{E}_n = m_n c^2 \\frac{x_{F,n}^2}{2}$$\n",
    "\n",
    "$$\\mathcal{E}_p = m_n p^2 \\frac{x_{F,p}^2}{2}$$\n",
    "\n",
    "with\n",
    "\n",
    "$$x_{F,\\{p,n\\}} = \\left (\\frac{3}{8\\pi} \\right)^{1/3} \\frac{h}{m_{\\{p,n\\}} c^2} n_{\\{p,n\\}}^{1/3}$$\n",
    "\n",
    "Putting this together, we have:\n",
    "\n",
    "\\begin{align*}\n",
    "&\\frac{1}{2} m_n c^2 \\left ( \\frac{3}{8\\pi} \\right )^{2/3} \\left (\\frac{h}{m_n c} \\right )^2 n_n^{2/3} + Q = \\\\\n",
    "&\\qquad\\frac{1}{2} m_p c^2 \\left ( \\frac{3}{8\\pi} \\right )^{2/3} \\left (\\frac{h}{m_p c} \\right )^2 \n",
    "n_p^{2/3} + m_e c^2 \\left (\\frac{3}{8\\pi} \\right )^{1/3} \\frac{h}{m_e c} n_e^{1/3}\n",
    "\\end{align*}\n",
    "\n",
    "Now, we can take $m_p \\approx m_n \\approx m_u$ in the above expression (since we are not subtracting the masses) and we can express the mass density as:\n",
    "\n",
    "$$\\rho = m_n n_n + m_p n_p + m_e n_e \\sim m_u (n_p + n_e)$$\n",
    "\n",
    "since $m_e \\ll m_p$\n",
    "\n",
    "The we have:\n",
    "\n",
    "$$n_p = \\frac{\\rho}{m_u} - n_n$$\n",
    "\n",
    "and charge neutrality requires that $n_e = n_p$, giving\n",
    "\n",
    "\\begin{align*}\n",
    "&\\frac{1}{2} m_u \\left ( \\frac{3}{8\\pi} \\right )^{2/3} \\left (\\frac{h}{m_u c} \\right )^2 n_n^{2/3} + \\frac{Q}{c^2} = \\\\\n",
    "&\\qquad\\frac{1}{2} m_u \\left ( \\frac{3}{8\\pi} \\right )^{2/3} \\left (\\frac{h}{m_u c} \\right )^2 \n",
    "n_p^{2/3} + m_e \\left (\\frac{3}{8\\pi} \\right )^{1/3} \\frac{h}{m_e c} n_p^{1/3}\n",
    "\\end{align*}\n",
    "\n",
    "We can solve this system numerically"
   ]
  },
  {
   "cell_type": "markdown",
   "id": "f52d944e-65c9-4636-9e3c-41859ad3c414",
   "metadata": {
    "user_expressions": []
   },
   "source": [
    "### c.\n",
    "\n",
    "Here's our code to generate a numerical solution\n"
   ]
  },
  {
   "cell_type": "code",
   "execution_count": 1,
   "id": "e64317fd-7cb9-4514-873a-57a9edd9ff8b",
   "metadata": {
    "tags": []
   },
   "outputs": [],
   "source": [
    "import numpy as np\n",
    "import scipy.optimize as optimize\n",
    "import matplotlib.pylab as plt"
   ]
  },
  {
   "cell_type": "code",
   "execution_count": 4,
   "id": "e555aacd-b04d-4295-a9f2-325aecb83cf1",
   "metadata": {
    "tags": []
   },
   "outputs": [],
   "source": [
    "# constants (CGS)\n",
    "c = 3.e10\n",
    "h = 6.63e-27\n",
    "m_u = 1.67e-24\n",
    "m_e = 9.11e-28\n",
    "\n",
    "MeV_to_erg = 1.602e-12 * 1.e6\n",
    "\n",
    "Q = 0.782 * MeV_to_erg"
   ]
  },
  {
   "cell_type": "code",
   "execution_count": 5,
   "id": "043cc830-dfb8-4281-9174-5997c82f8f0e",
   "metadata": {
    "tags": []
   },
   "outputs": [],
   "source": [
    "def saha(n_n, rho):\n",
    "\n",
    "    n_p = rho/m_u - n_n\n",
    "\n",
    "    a = (3.0/(8.0*np.pi))**(1./3.)\n",
    "\n",
    "    # neutron\n",
    "    x_n = a* (h/(m_u*c)) * n_n**(1./3.)\n",
    "    p_n = m_u * c * x_n\n",
    "    E_n = 0.5 * p_n**2 / m_u\n",
    "    #E_n = m_u*c**2*( (1.0 + x_n**2)**0.5 - 1)\n",
    "\n",
    "    # proton\n",
    "    x_p = a * (h/(m_u*c)) * n_p**(1./3.)\n",
    "    p_p = m_u * c * x_p\n",
    "    E_p = 0.5 *p_p**2 / m_u\n",
    "    #E_p = m_u*c**2*( (1.0 + x_p**2)**0.5 - 1)\n",
    "\n",
    "    # electron\n",
    "    x_e = a * (h/(m_e*c)) * n_p**(1./3.)\n",
    "    p_e = m_e * c * x_e\n",
    "    E_e = p_e * c\n",
    "    #E_e = m_e*c**2*( (1.0 + x_e**2)**0.5 - 1)\n",
    "\n",
    "    f = E_n + Q - E_p - E_e\n",
    "\n",
    "    return f"
   ]
  },
  {
   "cell_type": "code",
   "execution_count": 6,
   "id": "de79d357-474b-4410-b4ef-e208aea4e5f3",
   "metadata": {
    "tags": []
   },
   "outputs": [],
   "source": [
    "rho_v = []\n",
    "np_nn = []\n",
    "for rho in np.logspace(np.log10(3.e7), np.log10(5.e15), 100):\n",
    "    n_n_max = rho / m_u\n",
    "\n",
    "    n_n = optimize.brentq(saha, 0.0001*n_n_max, n_n_max, args=(rho))\n",
    "    n_p = rho/m_u - n_n\n",
    "\n",
    "    rho_v.append(rho)\n",
    "    np_nn.append(n_p/(n_p + n_n))"
   ]
  },
  {
   "cell_type": "code",
   "execution_count": 7,
   "id": "d0d68861-384e-41dd-8d1a-ac1b33f7cd72",
   "metadata": {
    "tags": []
   },
   "outputs": [
    {
     "data": {
      "text/plain": [
       "Text(0, 0.5, '$n_p / (n_p + n_n)$')"
      ]
     },
     "execution_count": 7,
     "metadata": {},
     "output_type": "execute_result"
    },
    {
     "data": {
      "image/png": "[encoded data removed]",
      "text/plain": [
       "<Figure size 960x720 with 1 Axes>"
      ]
     },
     "metadata": {},
     "output_type": "display_data"
    }
   ],
   "source": [
    "fig, ax = plt.subplots()\n",
    "\n",
    "ax.loglog(rho_v, np_nn)\n",
    "ax.set_xlabel(r\"$\\rho~ (\\mathrm{g}/\\mathrm{cm}^{3})$\")\n",
    "ax.set_ylabel(r\"$n_p / (n_p + n_n)$\")"
   ]
  },
  {
   "cell_type": "markdown",
   "id": "a08e9d75-cfec-4f99-936f-69efb87f1c0d",
   "metadata": {
    "user_expressions": []
   },
   "source": [
    "We see that the number of protons is always small compared to the number of neutrons"
   ]
  },
  {
   "cell_type": "markdown",
   "id": "0e0456f7-a15d-48f3-ac85-11fb081cb1ad",
   "metadata": {
    "user_expressions": []
   },
   "source": [
    "## 2. X-ray bursts\n",
    "\n",
    "We want to understand the depth at which H burns in an X-ray burst"
   ]
  },
  {
   "cell_type": "markdown",
   "id": "873b0044-dbb8-47b5-bc7f-7448fc6e57b0",
   "metadata": {
    "user_expressions": []
   },
   "source": [
    "### a.\n",
    "\n",
    "We define column depth as:\n",
    "\n",
    "$$dy = -\\rho dz$$\n",
    "\n",
    "starting with HSE:\n",
    "\n",
    "$$\\frac{dP}{dz} = -\\rho |g|$$\n",
    "\n",
    "we can write this as:\n",
    "\n",
    "$$-\\frac{1}{\\rho} \\frac{dP}{dz} = \\frac{dP}{dy} = |g|$$\n",
    "\n",
    "this can be integrated trivally together with the boundary condition that $P(y = 0) = 0$ to give:\n",
    "\n",
    "$$P = |g| y$$"
   ]
  },
  {
   "cell_type": "markdown",
   "id": "bef34180-4a87-434a-ae2c-76fa6efc2c75",
   "metadata": {
    "user_expressions": []
   },
   "source": [
    "### b.\n",
    "\n",
    "The change in H mass fraction is given by:\n",
    "\n",
    "$$\\frac{dX}{dt} = -\\frac{\\epsilon_H}{E}$$\n",
    "\n",
    "where $\\epsilon_H$ is a constant (it is the hot-CNO rate, which we say in a previous homework is temperature independent).  \n",
    "\n",
    "Taking\n",
    "\n",
    "$$E \\sim 6.4\\times 10^{18}~\\mathrm{erg/g}$$\n",
    "\n",
    "and \n",
    "\n",
    "$$\\epsilon_H = 5.9\\times 10^{15} Z_\\mathrm{CNO}~\\mathrm{erg/g/s}$$\n",
    "\n",
    "we have:\n",
    "\n",
    "$$X(t) = X(t= 0) - \\frac{\\epsilon_H}{E}$$\n",
    "\n",
    "but we want all of the H to be consumed, which means $X(t) = 0$.  This gives:\n",
    "\n",
    "$$t = \\frac{X_0 E}{\\epsilon_H} = \\frac{X_0 \\cdot 6.4\\times 10^{18}~\\mathrm{erg/g}}{5.9\\times 10^{15} Z_\\mathrm{CNO}~\\mathrm{erg/g/s}} = 1080 \\frac{X_0}{Z_\\mathrm{CNO}}~\\mathrm{s}$$"
   ]
  },
  {
   "cell_type": "markdown",
   "id": "052b7566-32aa-4eb9-af87-7c10a7150a50",
   "metadata": {
    "user_expressions": []
   },
   "source": [
    "For a typical $Z_\\mathrm{CNO} \\approx 0.01$, this is:\n",
    "\n",
    "$$t = 30 X_0 \\left (\\frac{0.01}{Z_\\mathrm{CNO}}\\right)~\\mathrm{hr}$$"
   ]
  },
  {
   "cell_type": "markdown",
   "id": "27e05c6a-9ea3-4ede-9097-251cb88836a1",
   "metadata": {
    "user_expressions": []
   },
   "source": [
    "### c.\n",
    "\n",
    "The column accretion rate is\n",
    "\n",
    "$$\\dot{m} = \\frac{dy}{dt}$$\n",
    "\n",
    "so we can write:\n",
    "\n",
    "$$\\frac{dX}{dt} = \\frac{dX}{dy}\\frac{dy}{dt} = \\dot{m} \\frac{dX}{dy} = -\\frac{\\epsilon_H}{E}$$\n",
    "\n",
    "We can integrate this as:\n",
    "\n",
    "$$X(y) = X(y = 0) - \\frac{\\epsilon_H}{\\dot{m} E} y$$\n",
    "\n",
    "where $X(y = 0) = X_0$, the surface / accreted amount of H."
   ]
  },
  {
   "cell_type": "markdown",
   "id": "25d9b5ee-9c84-44ca-9046-7094a35d69ff",
   "metadata": {
    "user_expressions": []
   },
   "source": [
    "### d. \n",
    "\n",
    "The critical column depth where all of the H is burned is $X(y_\\mathrm{crit}) = 0$, giving:\n",
    "\n",
    "$$y_\\mathrm{crit} = \\frac{\\dot{m} E X_0}{\\epsilon_H}$$\n",
    "\n",
    "and we can write this as:\n",
    "\n",
    "$$X(y) = X_0 \\left (1 - \\frac{y}{y_\\mathrm{crit}} \\right )$$\n",
    "\n",
    "Now we want to evaluate this.  Start with the Eddington accretion rate:\n",
    "\n",
    "$$\\dot{m}_\\mathrm{Edd} = \\frac{2 m_p c}{1 + X}\\frac{1}{R \\sigma_T}$$\n",
    "\n",
    "with $\\sigma_T = 6.65\\times 10^{-25}~\\mathrm{cm^2}$.  This gives:\n",
    "\n",
    "$$\\dot{m}_\\mathrm{Edd} = 8.86\\times 10^4 \\left ( \\frac{1.7}{1 + X} \\right )~\\mathrm{g/cm^2/s}$$\n",
    "\n",
    "and \n",
    "\n",
    "\\begin{align*}\n",
    "y_d &= \\frac{X_0 E \\dot{m}_\\mathrm{Edd}}{\\epsilon_H} \\left ( \\frac{\\dot{m}}{\\dot{m}_\\mathrm{Edd}}\\right ) \\\\\n",
    "    &= 6.8\\times 10^9 \\left (\\frac{X_0}{0.7}\\right) \\left (\\frac{1.7}{1+X}\\right ) \\left ( \\frac{\\dot{m}}{\\dot{m}_\\mathrm{Edd}}\\right ) \\left (\\frac{Z_\\mathrm{CNO}}{0.01}\\right)^{-1}~\\mathrm{g/cm^2/s}\n",
    "\\end{align*}"
   ]
  },
  {
   "cell_type": "code",
   "execution_count": null,
   "id": "96068072-df94-41ed-b364-a66f133d9639",
   "metadata": {},
   "outputs": [],
   "source": []
  }
 ],
 "metadata": {
  "kernelspec": {
   "display_name": "Python 3 (ipykernel)",
   "language": "python",
   "name": "python3"
  },
  "language_info": {
   "codemirror_mode": {
    "name": "ipython",
    "version": 3
   },
   "file_extension": ".py",
   "mimetype": "text/x-python",
   "name": "python",
   "nbconvert_exporter": "python",
   "pygments_lexer": "ipython3",
   "version": "3.11.6"
  }
 },
 "nbformat": 4,
 "nbformat_minor": 5
}
