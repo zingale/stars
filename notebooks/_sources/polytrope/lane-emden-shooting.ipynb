{
 "cells": [
  {
   "cell_type": "markdown",
   "id": "1219859e-559f-4e70-8677-e88aba507e40",
   "metadata": {},
   "source": [
    "# Solving Lane-Emden via Shooting\n"
   ]
  },
  {
   "cell_type": "markdown",
   "id": "04a507c2-9702-4792-8a9c-1d6541cba599",
   "metadata": {},
   "source": [
    "We'll use 4th order RK integration and we'll integrate both inward from the surface and outward from the center and meet at some point in the middle, $\\xi_\\mathrm{fit}$.\n",
    "\n",
    "We rewrite our system by defining:\n",
    "\n",
    "\\begin{align*}\n",
    "y &= \\theta \\\\\n",
    "z &= d\\theta/d\\xi = dy/d\\xi\n",
    "\\end{align*}\n",
    "\n",
    "then our system is:\n",
    "\n",
    "\\begin{align*}\n",
    "\\frac{dy}{d\\xi} &= z \\\\\n",
    "\\frac{dz}{d\\xi} &= -y^n - \\frac{2}{\\xi} z\n",
    "\\end{align*}\n",
    "\n",
    "At $\\xi = 0$, the righthand side of $dz/d\\xi$ looks like it blows up, but in the limit $\\xi \\rightarrow 0$, the solution takes the form:\n",
    "\n",
    "$$\\theta(\\xi) = 1 - \\frac{1}{6}\\xi^2 + \\frac{n}{120} \\xi^4 + \\ldots$$\n",
    "\n",
    "which allows us to simply the $dz/d\\xi$ near $\\xi = 0$ as:\n",
    "\n",
    "$$\\frac{dz}{d\\xi} \\approx -\\frac{1}{3}$$"
   ]
  },
  {
   "cell_type": "markdown",
   "id": "56b2c841-f382-4347-9002-53b52acdfb00",
   "metadata": {},
   "source": [
    "We're going to integrate outward from the center and inward from the surface and meet in the middle.\n",
    "\n",
    "At the center, our boundary conditions are:\n",
    "\n",
    "* $y(0) = 1$\n",
    "* $z(0) = 0$\n",
    "\n",
    "and at the surface, $\\xi_s$, they are:\n",
    "\n",
    "* $y(\\xi_s) = 0$\n",
    "* $z(\\xi_s) = \\eta$\n",
    "\n",
    "Initially, we don't know either $\\eta$ or $\\xi_s$.\n",
    "\n",
    "Our algorithm will proceed as follows:\n",
    "\n",
    "* Take an initial guess for $\\eta$ and $\\xi_s$.  Pick $\\xi_f = \\xi_s/2$.\n",
    "\n",
    "* Integrate from the center outward to the fit point, $\\xi_f$, getting the solution: $y_\\mathrm{out}(\\xi_f)$, $z_\\mathrm{out}(\\xi_f)$.\n",
    "\n",
    "* Integrate from the surface (starting at the guess $\\xi_s$ inward to the fit point, getting the\n",
    "solution $y_\\mathrm{in}(\\xi_f)$, $z_\\mathrm{in}(\\xi_f)$\n",
    "\n",
    "* Constrain the solution to match at the fit point by finding the zero of:\n",
    "\n",
    "  \\begin{align*}\n",
    "  Y(\\eta, \\xi_s) &\\equiv y_\\mathrm{in}(\\xi_f) - y_\\mathrm{out}(\\xi_f) = 0 \\\\\n",
    "  Z(\\eta, \\xi_s) &\\equiv z_\\mathrm{in}(\\xi_f) - z_\\mathrm{out}(\\xi_f) = 0\n",
    "  \\end{align*}\n",
    "  \n",
    "  we will do this via the secant method.  This will yield a new guess for $\\eta$ and $\\xi_s$.\n",
    "  \n",
    "* Iterate over this procedure until the $\\eta$ and $\\xi_s$ converge."
   ]
  },
  {
   "cell_type": "code",
   "execution_count": 1,
   "id": "32fa235d-1c32-4c37-98ec-7d0e0e7a78de",
   "metadata": {},
   "outputs": [],
   "source": [
    "import numpy as np\n",
    "import matplotlib.pyplot as plt\n",
    "from scipy.integrate import solve_ivp"
   ]
  },
  {
   "cell_type": "code",
   "execution_count": 2,
   "id": "58b0b67e-14ee-41e2-a2c1-65fac602bd37",
   "metadata": {},
   "outputs": [],
   "source": [
    "def rhs(xi, H, n):\n",
    "    \n",
    "    y = H[0]\n",
    "    z = H[1]\n",
    "\n",
    "    f0 = z\n",
    "\n",
    "    if xi == 0.0:\n",
    "        f1 = 2.0/3.0 - y**n\n",
    "    else:\n",
    "        f1 = -2.0*z/xi - y**n\n",
    "\n",
    "    return np.array([f0, f1])"
   ]
  },
  {
   "cell_type": "markdown",
   "id": "2f789838-bcd6-49b7-abbc-3e4461e6e51a",
   "metadata": {},
   "source": [
    "We'll use SciPy's implementation of 4th order Runge-Kutta here"
   ]
  },
  {
   "cell_type": "code",
   "execution_count": 3,
   "id": "9a4baee8-5396-4636-9f76-d50447b6d408",
   "metadata": {},
   "outputs": [],
   "source": [
    "def le_integrate(xi_start, xi_end, H0, n):\n",
    "\n",
    "    sol = solve_ivp(rhs, (xi_start, xi_end), H0,\n",
    "                    method=\"RK45\", rtol=1.e-8, atol=1.e-8, args=(n,))\n",
    "\n",
    "    xi = sol.t\n",
    "    y = sol.y[0, :]\n",
    "    z = sol.y[1, :]\n",
    "\n",
    "    return xi, y, z"
   ]
  },
  {
   "cell_type": "markdown",
   "id": "47a23fb1-9866-4269-afa0-54fef1317f77",
   "metadata": {},
   "source": [
    "Now, we still need to understand how to solve for 2 roots from 2 equations (so far, we've only done the scalar case).\n",
    "\n",
    "Let's Taylor expand our functions $Y$ and $Z$:\n",
    "\n",
    "\\begin{align*}\n",
    "Y(\\eta +\\Delta \\eta, \\xi_s + \\Delta \\xi_s) &= Y(\\eta, \\xi_s) + \\frac{\\partial Y}{\\partial \\eta} \\Delta \\eta + \\frac{\\partial Y}{\\partial \\xi_s} \\Delta \\xi_s \\sim 0 \\\\\n",
    "Z(\\eta +\\Delta \\eta, \\xi_s + \\Delta \\xi_s) &= Z(\\eta, \\xi_s) + \\frac{\\partial Z}{\\partial \\eta} \\Delta \\eta + \\frac{\\partial Z}{\\partial \\xi_s} \\Delta \\xi_s \\sim 0 \n",
    "\\end{align*}\n",
    "\n",
    "We want to solve for the corrections, $\\Delta \\eta$ and $\\Delta \\xi_s$ that zero this&mdash;this is Newton's method, but now for a system of equations.\n",
    "\n",
    "We can solve the first equation for $\\Delta \\eta$:\n",
    "\n",
    "$$\\Delta \\eta = \\left ( \\frac{\\partial Y}{\\partial\\eta} \\right )^{-1} \\left [ \\frac{\\partial Y}{\\partial \\xi_s} \\Delta \\xi_s - Y \\right ]$$\n",
    "\n",
    "and then substitute this into the second equation and solve for $\\Delta \\xi_s$:\n",
    "\n",
    "$$\\Delta \\xi_s = \\frac{-Z + \\frac{\\partial Z}{\\partial \\eta} \\left ( \\frac{\\partial Y}{\\partial \\eta} \\right )^{-1} Y}{\\frac{\\partial Z}{\\partial \\xi_s} + \\frac{\\partial Z}{\\partial \\eta} \\left ( \\frac{\\partial Y}{\\partial \\eta} \\right)^{-1} \\frac{\\partial Y}{\\partial \\xi_s}}$$\n",
    "\n",
    "We still need the derivatives, which we will compute via differencing.\n",
    "\n",
    "For systems with more than 2 equations and 2 unknowns, it becomes tedious to analytically solve for the corrections.  Instead, as we'll see shortly, we can express this as a linear system and solve for the corrections using numerical linear algebra methods."
   ]
  },
  {
   "cell_type": "code",
   "execution_count": 21,
   "id": "035083a8-92e5-4e25-922d-9e021adbfd47",
   "metadata": {},
   "outputs": [],
   "source": [
    "def solve_le(n):\n",
    "\n",
    "    # initial guesses for the unknowns -- if we aren't careful with the\n",
    "    # guess at the outer boundary, we can get 2 roots.  Here we know that\n",
    "    # n = 1 has xi_s = pi\n",
    "\n",
    "    if n > 2.0:\n",
    "        xi_s = 8.0\n",
    "    else:\n",
    "        xi_s = np.pi\n",
    "\n",
    "    eta = -0.01\n",
    "\n",
    "    # for numerical differentiation\n",
    "    eps = 1.e-8\n",
    "\n",
    "    # main iteration loop\n",
    "    converged = False\n",
    "    while not converged:\n",
    "\n",
    "        # fitting point\n",
    "        xi_fit = xi_s / 2.0\n",
    "\n",
    "        # baseline integration\n",
    "\n",
    "        # outward from the center\n",
    "        xi_out, y_out, z_out = le_integrate(0.0, xi_fit, [1.0, 0.0], n)\n",
    "\n",
    "        # inward from xi_s\n",
    "        xi_in, y_in, z_in = le_integrate(xi_s, xi_fit, [0.0, eta], n)\n",
    "\n",
    "        # the two functions we want to zero\n",
    "        Ybase = y_in[-1] - y_out[-1]\n",
    "        Zbase = z_in[-1] - z_out[-1]\n",
    "\n",
    "        # now do eta + eps*eta, xi_s\n",
    "        # inward from xi_s\n",
    "        H0 = np.array([0.0, eta*(1.0+eps)])\n",
    "        xi_in, y_in, z_in = le_integrate(xi_s, xi_fit, [0.0, eta * (1.0 + eps)], n)\n",
    "\n",
    "        Ya = y_in[-1] - y_out[-1]\n",
    "        Za = z_in[-1] - z_out[-1]\n",
    "\n",
    "        # our derivatives\n",
    "        dYdeta = (Ya - Ybase) / (eta * eps)\n",
    "        dZdeta = (Za - Zbase) / (eta * eps)\n",
    "\n",
    "        # now do alpha, xi_s + eps*xi_s\n",
    "        # inward from xi_s\n",
    "        xi_in, y_in, z_in = le_integrate(xi_s  * (1.0 + eps), xi_fit, [0.0, eta], n)\n",
    "\n",
    "        Yxi = y_in[-1] - y_out[-1]\n",
    "        Zxi = z_in[-1] - z_out[-1]\n",
    "\n",
    "        # our derivatives\n",
    "        dYdxi_s = (Yxi - Ybase) / (xi_s * eps)\n",
    "        dZdxi_s = (Zxi - Zbase) / (xi_s * eps)\n",
    "\n",
    "        # compute the correction for our two parameters\n",
    "        dxi_s = - (Zbase - dZdeta * Ybase / dYdeta) / \\\n",
    "                    (dZdxi_s - dZdeta * dYdxi_s / dYdeta)\n",
    "\n",
    "        deta = -(Ybase + dYdxi_s * dxi_s) / dYdeta\n",
    "\n",
    "        # limit the changes per iteration\n",
    "        deta = min(abs(deta), 0.1 * abs(eta)) * np.copysign(1.0, deta)\n",
    "        dxi_s = min(abs(dxi_s), 0.1 * abs(xi_s)) * np.copysign(1.0, dxi_s)\n",
    "                    \n",
    "        print(f\"corrections:  {deta:13.10f}, {dxi_s:13.10f}\")\n",
    "        \n",
    "        eta += deta\n",
    "        xi_s += dxi_s\n",
    "\n",
    "        if abs(deta) < eps * abs(eta) and abs(dxi_s) < eps * abs(xi_s):\n",
    "            converged = True\n",
    "            \n",
    "    return xi_in, y_in, z_in, xi_out, y_out, z_out"
   ]
  },
  {
   "cell_type": "code",
   "execution_count": 22,
   "id": "07921fd0-51f5-4a08-93e8-2c5e124a93af",
   "metadata": {
    "tags": []
   },
   "outputs": [
    {
     "name": "stdout",
     "output_type": "stream",
     "text": [
      "corrections:  -0.0010000000, -0.8000000000\n",
      "corrections:  -0.0011000000,  0.1041147613\n",
      "corrections:  -0.0012100000, -0.4023129572\n",
      "corrections:  -0.0013310000,  0.6901801804\n",
      "corrections:  -0.0014641000, -0.7591981985\n",
      "corrections:  -0.0016105100,  0.6832783786\n",
      "corrections:  -0.0017715610, -0.7516062165\n",
      "corrections:  -0.0019487171,  0.6764455948\n",
      "corrections:  -0.0021435888, -0.7440901543\n",
      "corrections:  -0.0023579477,  0.6696811389\n",
      "corrections:  -0.0025937425, -0.6416950043\n",
      "corrections:  -0.0028531167,  0.5277799831\n",
      "corrections:  -0.0031384284, -0.4366093478\n",
      "corrections:  -0.0034522712,  0.1755125576\n",
      "corrections:  -0.0037974983, -0.0987624438\n",
      "corrections:  -0.0006486268,  0.0046186327\n",
      "corrections:  -0.0000086425, -0.0004880733\n",
      "corrections:  -0.0000000003,  0.0000000612\n"
     ]
    }
   ],
   "source": [
    "n = 3\n",
    "xi_in, y_in, z_in, xi_out, y_out, z_out = solve_le(n)"
   ]
  },
  {
   "cell_type": "code",
   "execution_count": 23,
   "id": "7a824e95-65fb-4324-8fce-eae27049ca4c",
   "metadata": {
    "tags": []
   },
   "outputs": [
    {
     "data": {
      "image/png": "[encoded data removed]",
      "text/plain": [
       "<Figure size 640x480 with 1 Axes>"
      ]
     },
     "metadata": {},
     "output_type": "display_data"
    }
   ],
   "source": [
    "fig, ax = plt.subplots()\n",
    "\n",
    "ax.plot(xi_in, y_in, color=\"C0\", label=r\"$\\theta$\")\n",
    "ax.plot(xi_out, y_out, color=\"C0\", ls=\"--\")\n",
    "\n",
    "ax.plot(xi_in, z_in, color=\"C1\", label=r\"$\\theta'$\")\n",
    "ax.plot(xi_out, z_out, color=\"C1\", ls=\"--\")\n",
    "\n",
    "ax.set_xlabel(r\"$\\xi$\", fontsize=14)\n",
    "ax.set_ylabel(r\"$\\theta,\\, \\theta'$\", fontsize=14)\n",
    "\n",
    "ax.legend(frameon=False, loc=\"best\")\n",
    "ax.grid()"
   ]
  },
  {
   "cell_type": "markdown",
   "id": "3c8ee0bc-f950-455d-b093-2664210f1ef7",
   "metadata": {},
   "source": [
    "Now we can get the surface of the polytrope, $\\xi_1$"
   ]
  },
  {
   "cell_type": "code",
   "execution_count": 16,
   "id": "585395f6-082c-406d-b520-4706fa550b98",
   "metadata": {},
   "outputs": [
    {
     "data": {
      "text/plain": [
       "6.896848900785904"
      ]
     },
     "execution_count": 16,
     "metadata": {},
     "output_type": "execute_result"
    }
   ],
   "source": [
    "xi1 = xi_in[0]\n",
    "xi1"
   ]
  },
  {
   "cell_type": "markdown",
   "id": "c018ee34-5e25-48fa-ac0b-6c6372d445e7",
   "metadata": {},
   "source": [
    "and $\\theta^\\prime$ at the surface:"
   ]
  },
  {
   "cell_type": "code",
   "execution_count": 17,
   "id": "821449eb-fcb3-4c74-b850-ee2c362439fa",
   "metadata": {
    "tags": []
   },
   "outputs": [],
   "source": [
    "dthetadxi_1 = z_in[0]"
   ]
  },
  {
   "cell_type": "markdown",
   "id": "d5b65fee-1dd4-49ef-86e8-777fddb69a04",
   "metadata": {},
   "source": [
    "A common quantity needed in finding physical values is $-\\xi_1^2 \\theta^\\prime |_{\\xi=\\xi_1}$"
   ]
  },
  {
   "cell_type": "code",
   "execution_count": 18,
   "id": "bbc5a309-4415-45f3-85fe-e3cefd629874",
   "metadata": {
    "tags": []
   },
   "outputs": [
    {
     "data": {
      "text/plain": [
       "2.018235801821596"
      ]
     },
     "execution_count": 18,
     "metadata": {},
     "output_type": "execute_result"
    }
   ],
   "source": [
    "-xi1**2 * dthetadxi_1"
   ]
  }
 ],
 "metadata": {
  "kernelspec": {
   "display_name": "Python 3 (ipykernel)",
   "language": "python",
   "name": "python3"
  },
  "language_info": {
   "codemirror_mode": {
    "name": "ipython",
    "version": 3
   },
   "file_extension": ".py",
   "mimetype": "text/x-python",
   "name": "python",
   "nbconvert_exporter": "python",
   "pygments_lexer": "ipython3",
   "version": "3.11.5"
  }
 },
 "nbformat": 4,
 "nbformat_minor": 5
}
