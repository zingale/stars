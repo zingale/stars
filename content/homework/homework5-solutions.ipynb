{
 "cells": [
  {
   "cell_type": "markdown",
   "id": "86f0246a-043f-4ffb-902e-8824d28c3aee",
   "metadata": {
    "user_expressions": []
   },
   "source": [
    "# Homework 5 solutions"
   ]
  },
  {
   "cell_type": "markdown",
   "id": "d34346a4-0209-407f-8c2a-fb8b00c289d8",
   "metadata": {
    "user_expressions": []
   },
   "source": [
    "## 1. approximate rates\n",
    "\n",
    "We want to look at the approximation of the rate sequence $(\\alpha,p)(p,\\gamma)$ and $(\\alpha,\\gamma)$\n",
    "into a single effective rate.\n",
    "\n",
    "Our system is:\n",
    "\n",
    "  \\begin{equation*}                                                                                                A(\\alpha,\\gamma)C                                                                                       \n",
    "  \\end{equation*}\n",
    "  \n",
    "  \\begin{equation*}                                                                                           \n",
    "    A(\\alpha,p)B(p,\\gamma)C\n",
    "  \\end{equation*}                                                                                            \n",
    "                   \n",
    "which evolves according to:\n",
    "\n",
    "\\begin{align*}\n",
    "   \\frac{dY_A}{dt} &= - \\rho Y_A Y_\\alpha \\lambda_{\\alpha,\\gamma}\n",
    "                   + Y_C \\lambda_{\\gamma,\\alpha}\n",
    "                   - \\rho Y_A Y_\\alpha \\lambda_{\\alpha,p}\n",
    "                   + \\rho Y_B Y_p \\lambda_{p,\\alpha} \\\\\n",
    "   %\n",
    "   \\frac{dY_C}{dt} &= + \\rho Y_A Y_\\alpha \\lambda_{\\alpha,\\gamma}\n",
    "                   - Y_C \\lambda_{\\gamma,\\alpha}\n",
    "                   + \\rho Y_B Y_p \\lambda_{p,\\alpha}\n",
    "                   - Y_C\\lambda_{\\gamma,p} \\\\\n",
    "   %\n",
    "   \\frac{dY_\\alpha}{dt} &= - \\rho Y_A Y_\\alpha \\lambda_{\\alpha,\\gamma}\n",
    "                   + Y_C \\lambda_{\\gamma,\\alpha}\n",
    "                   - \\rho Y_A Y_\\alpha \\lambda_{\\alpha,p}\n",
    "                   + \\rho Y_B Y_p \\lambda_{p,\\alpha} \\\\\n",
    "   %\n",
    "   \\frac{dY_B}{dt} = \\frac{dY_p}{dt} &= + \\rho Y_A Y_\\alpha \\lambda_{\\alpha,p}\n",
    "                   - \\rho Y_B Y_p \\lambda_{p,\\gamma}\n",
    "                   + Y_C \\lambda_{\\gamma,p}\n",
    "                   - \\rho Y_B Y_p \\lambda_{p,\\alpha}\n",
    "  \\end{align*}\n",
    "\n",
    "where the $Y$ are the molar fractions of the species and $\\lambda = N_A \\langle \\sigma v \\rangle$"
   ]
  },
  {
   "cell_type": "markdown",
   "id": "1ed68b14-cb21-407b-96cf-5c889a6294db",
   "metadata": {
    "user_expressions": []
   },
   "source": [
    "### a.\n",
    "\n",
    "If we assume that the protons are in equilibrium, then $dY_p/dt = 0$, giving\n",
    "\n",
    "$$\\rho Y_B Y_p = \\frac{\\rho Y_A Y_\\alpha \\lambda_{\\alpha,p} + Y_B \\lambda_{\\gamma,p}}\n",
    "                      {\\lambda_{p,\\gamma} + \\lambda_{p,\\alpha}}$$\n",
    "                      \n",
    "If we substitute this into the $dY_A/dt$ equation, we find:\n",
    "\n",
    "$$\\frac{dY_A}{dt} = -\\rho Y_A Y_\\alpha \\left [ \\lambda_{\\alpha,\\gamma} + \\lambda_{\\alpha,p}\n",
    "                                             \\left ( 1 - \\frac{\\lambda_{p,\\alpha}}{\\lambda_{p,\\gamma} + \\lambda_{p,\\alpha}} \\right ) \\right ]\n",
    "                    + Y_B \\left [ \\lambda_{\\gamma,\\alpha} + \\frac{\\lambda_{p,\\alpha} \\lambda_{\\gamma,p}}{\\lambda_{p,\\gamma} + \\lambda_{p,\\alpha}} \\right ] $$   \n",
    "                    \n",
    "and we can identify the effective forward rate as (after some simplification) the term in the first set of brackets:\n",
    "\n",
    "$$\\lambda^\\prime_{\\alpha,\\gamma} = \\lambda_{\\alpha,\\gamma} + \\frac{\\lambda_{\\alpha,p}\\lambda_{p,\\gamma}}{\\lambda_{p,\\gamma} + \\lambda_{p,\\alpha}}$$\n",
    "\n",
    "and the effective reverse rate as the term in the second set of brackets:\n",
    "\n",
    "$$\\lambda^\\prime_{\\gamma,\\alpha} = \\lambda_{\\gamma,\\alpha} + \\frac{\\lambda_{p,\\alpha} \\lambda_{\\gamma,p}}{\\lambda_{p,\\gamma} + \\lambda_{p,\\alpha}} $$"
   ]
  },
  {
   "cell_type": "markdown",
   "id": "adbf6cba-e825-490f-b12d-24efb5f5400c",
   "metadata": {
    "user_expressions": []
   },
   "source": [
    "### b.\n",
    "\n",
    "In the limit where the forward rates are much faster than the reverse rates, our approximations reduce to:\n",
    "\n",
    "$$\\lambda^\\prime_{\\alpha,\\gamma} = \\lambda_{\\alpha,\\gamma} + \\lambda_{\\alpha,p}$$\n",
    "\n",
    "$$\\lambda^\\prime_{\\gamma,\\alpha} \\approx 0$$\n",
    "\n",
    "The forward rate is just the sum of the $\\alpha$-captures, which makes sense, since this approximation assumed that the proton capture is effectively instantaneous."
   ]
  },
  {
   "cell_type": "markdown",
   "id": "64e46843-800a-4e4a-a131-78ee135254fc",
   "metadata": {
    "user_expressions": []
   },
   "source": [
    "## 2. $\\alpha$ network\n",
    "\n",
    "We want to evolve the system:\n",
    "\n",
    "  \\begin{eqnarray}\n",
    "    \\frac{dn_4}{dt} &=& -\\frac{3n_4^3}{6} \\langle 3\\alpha \\rangle -\n",
    "                          n_4 n_{12} \\langle \\alpha 12 \\rangle -\n",
    "                          n_4 n_{16} \\langle \\alpha 16 \\rangle \\\\\n",
    "    \\frac{dn_{12}}{dt} &=& \\frac{n_4^3}{6} \\langle 3\\alpha \\rangle -\n",
    "                          n_4 n_{12} \\langle \\alpha 12 \\rangle \\\\\n",
    "    \\frac{dn_{16}}{dt} &=& n_4 n_{12} \\langle \\alpha 12 \\rangle -\n",
    "                          n_4 n_{16} \\langle \\alpha 16 \\rangle \\\\\n",
    "    \\frac{dn_{20}}{dt} &=& n_4 n_{16} \\langle \\alpha 16 \\rangle \n",
    "  \\end{eqnarray}\n"
   ]
  },
  {
   "cell_type": "code",
   "execution_count": null,
   "id": "fcca1706-af1e-440f-9a09-6bdb3fb8cf4f",
   "metadata": {},
   "outputs": [],
   "source": []
  }
 ],
 "metadata": {
  "kernelspec": {
   "display_name": "Python 3 (ipykernel)",
   "language": "python",
   "name": "python3"
  },
  "language_info": {
   "codemirror_mode": {
    "name": "ipython",
    "version": 3
   },
   "file_extension": ".py",
   "mimetype": "text/x-python",
   "name": "python",
   "nbconvert_exporter": "python",
   "pygments_lexer": "ipython3",
   "version": "3.11.6"
  }
 },
 "nbformat": 4,
 "nbformat_minor": 5
}
